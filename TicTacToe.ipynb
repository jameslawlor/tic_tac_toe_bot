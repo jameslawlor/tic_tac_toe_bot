{
 "cells": [
  {
   "cell_type": "code",
   "execution_count": 1,
   "metadata": {},
   "outputs": [],
   "source": [
    "import numpy as np"
   ]
  },
  {
   "cell_type": "code",
   "execution_count": 110,
   "metadata": {},
   "outputs": [
    {
     "data": {
      "text/plain": [
       "[[nan  1. nan]\n",
       " [nan nan nan]\n",
       " [ 1. nan  0.]]"
      ]
     },
     "execution_count": 110,
     "metadata": {},
     "output_type": "execute_result"
    }
   ],
   "source": [
    "class TicTacToe:\n",
    "    \"\"\"\n",
    "    Tic Tac Toe game class\n",
    "    \"\"\"\n",
    "    def __init__(self, size=3):\n",
    "        self.board = np.full((size, size), np.nan)\n",
    "        self.max_x = self.board.shape[0]\n",
    "        self.max_y = self.board.shape[1]\n",
    "        \n",
    "        # player 1 always starts\n",
    "        self.player = 1\n",
    "        \n",
    "    def has_won(self, player):\n",
    "        bool_board = (self.board == player)\n",
    "        any_line = np.any(np.all(bool_board, axis = 0))\n",
    "        any_row  = np.any(np.all(bool_board, axis = 1))\n",
    "        diag_main = np.all(np.diag(bool_board))\n",
    "        diag_sec = np.all(np.diag(np.fliplr(bool_board)))\n",
    "        \n",
    "        return (any_line or any_row or diag_main or diag_sec)\n",
    "    \n",
    "    def get_score(self):\n",
    "        \n",
    "        if TicTacToe.has_won(self.board, 1):\n",
    "            return 1\n",
    "        \n",
    "        elif TicTacToe.has_won(self.board, 0):\n",
    "            return -1\n",
    "        \n",
    "        else:\n",
    "            return 0\n",
    "    \n",
    "    def insert(self, pos_x, pos_y):\n",
    "\n",
    "        if not((0 <= pos_x < self.max_x) or (0 <= pos_y < self.max_y)):\n",
    "            raise ValueError(f'Invalid coordinates given')\n",
    "            \n",
    "        elif np.isnan(self.board[pos_x, pos_y]): \n",
    "            self.board[pos_x, pos_y] = self.player\n",
    "            # switch player\n",
    "            self.player = int(not self.player)\n",
    "            \n",
    "        else:\n",
    "            raise ValueError(f'Already filled position ({pos_x}, {pos_y})')\n",
    "        \n",
    "    \n",
    "    def __repr__(self):\n",
    "        return str(self.board)\n",
    "\n",
    "game = TicTacToe()\n",
    "game.insert(0, 1)\n",
    "game.insert(2, 2)\n",
    "game.insert(2, 0)\n",
    "game"
   ]
  },
  {
   "cell_type": "code",
   "execution_count": 111,
   "metadata": {
    "scrolled": true
   },
   "outputs": [
    {
     "name": "stdout",
     "output_type": "stream",
     "text": [
      "[[nan  1.  0.]\n",
      " [nan nan  0.]\n",
      " [ 1.  1.  0.]]\n",
      "Player 1 win False\n",
      "Player 2 win True\n"
     ]
    }
   ],
   "source": [
    "game = TicTacToe()\n",
    "game.insert(0, 1)\n",
    "game.insert(2, 2)\n",
    "game.insert(2, 0)\n",
    "game.insert(1, 2)\n",
    "game.insert(2, 1)\n",
    "game.insert(0, 2)\n",
    "print(game)\n",
    "print('Player 1 win', game.has_won(1))\n",
    "print('Player 2 win', game.has_won(0))"
   ]
  },
  {
   "cell_type": "code",
   "execution_count": 119,
   "metadata": {},
   "outputs": [
    {
     "name": "stdout",
     "output_type": "stream",
     "text": [
      "[[nan nan  1.]\n",
      " [nan  1. nan]\n",
      " [ 1.  0.  0.]]\n",
      "Player 1 win True\n",
      "Player 2 win False\n"
     ]
    }
   ],
   "source": [
    "game = TicTacToe()\n",
    "game.insert(1, 1)\n",
    "game.insert(2, 1)\n",
    "game.insert(0, 2)\n",
    "game.insert(2, 2)\n",
    "game.insert(2, 0)\n",
    "print(game)\n",
    "print('Player 1 win', game.has_won(1))\n",
    "print('Player 2 win', game.has_won(0))"
   ]
  },
  {
   "cell_type": "code",
   "execution_count": 123,
   "metadata": {},
   "outputs": [
    {
     "name": "stdout",
     "output_type": "stream",
     "text": [
      "[[ 1. nan  0.]\n",
      " [nan  1. nan]\n",
      " [nan  0.  1.]]\n",
      "Player 1 win True\n",
      "Player 2 win False\n"
     ]
    }
   ],
   "source": [
    "game = TicTacToe()\n",
    "game.insert(1, 1)\n",
    "game.insert(2, 1)\n",
    "game.insert(0, 0)\n",
    "game.insert(0, 2)\n",
    "game.insert(2, 2)\n",
    "print(game)\n",
    "print('Player 1 win', game.has_won(1))\n",
    "print('Player 2 win', game.has_won(0))"
   ]
  },
  {
   "cell_type": "code",
   "execution_count": null,
   "metadata": {},
   "outputs": [],
   "source": []
  }
 ],
 "metadata": {
  "kernelspec": {
   "display_name": "Python 3",
   "language": "python",
   "name": "python3"
  },
  "language_info": {
   "codemirror_mode": {
    "name": "ipython",
    "version": 3
   },
   "file_extension": ".py",
   "mimetype": "text/x-python",
   "name": "python",
   "nbconvert_exporter": "python",
   "pygments_lexer": "ipython3",
   "version": "3.6.3"
  }
 },
 "nbformat": 4,
 "nbformat_minor": 2
}
